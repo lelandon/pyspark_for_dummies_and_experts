{
 "cells": [
  {
   "cell_type": "markdown",
   "id": "91649b48-2200-4cf7-bf6e-426d7467fe45",
   "metadata": {},
   "source": [
    "#### El área de QA comentó que la estructura de las tablas cargadas en formato parquet no cumplen las normas de calidad requeridas. Por lo tanto hay que renombrar y/o castear las columnas indicadas. \n",
    "\n",
    "##### Nota: Para poder trabajar con este notebook es necesario haber terminado el ejercicio de la sesión 04"
   ]
  },
  {
   "cell_type": "code",
   "execution_count": 94,
   "id": "d659a59d-ace4-46a3-bee4-48021222361d",
   "metadata": {},
   "outputs": [
    {
     "data": {
      "text/html": [
       "<style>pre { white-space: pre !important; }</style>"
      ],
      "text/plain": [
       "<IPython.core.display.HTML object>"
      ]
     },
     "metadata": {},
     "output_type": "display_data"
    }
   ],
   "source": [
    "# NO MODIFICAR CONTENIDO DE ESTA CELDA\n",
    "%run utils.ipynb"
   ]
  },
  {
   "cell_type": "code",
   "execution_count": 95,
   "id": "b2c5c6ac-4fe0-4b7f-9d9a-3a10d039d10a",
   "metadata": {},
   "outputs": [
    {
     "name": "stdout",
     "output_type": "stream",
     "text": [
      "+-------+----------------+-------------------------------------------+\n",
      "|movieId|title           |genres                                     |\n",
      "+-------+----------------+-------------------------------------------+\n",
      "|1      |Toy Story (1995)|Adventure|Animation|Children|Comedy|Fantasy|\n",
      "+-------+----------------+-------------------------------------------+\n",
      "only showing top 1 row\n",
      "\n",
      "+------+-------+------+----------+\n",
      "|userId|movieId|rating| timestamp|\n",
      "+------+-------+------+----------+\n",
      "|     1|      1|   4.0|1225734739|\n",
      "+------+-------+------+----------+\n",
      "only showing top 1 row\n",
      "\n",
      "+------+-------+------+----------+\n",
      "|userId|movieId|   tag| timestamp|\n",
      "+------+-------+------+----------+\n",
      "|224183|    832|acting|1496668827|\n",
      "+------+-------+------+----------+\n",
      "only showing top 1 row\n",
      "\n"
     ]
    }
   ],
   "source": [
    "# NO MODIFICAR CONTENIDO DE ESTA CELDA\n",
    "from pyspark.sql import SparkSession\n",
    "import pyspark.sql.functions as f\n",
    "\n",
    "# Creación de sesión de Spark\n",
    "spark = SparkSession.builder \\\n",
    "    .master(\"local[*]\") \\\n",
    "    .appName(\"ejercicio_5\") \\\n",
    "    .getOrCreate()\n",
    "\n",
    "# Carga de tablas requeridas\n",
    "root_path = \"../resources/data/tmp/parquet/\"\n",
    "names_list = [\"04/movies\", \"04/ratings\", \"04/tags\"]\n",
    "df_dict = read_tmp_df(names_list)\n",
    "\n",
    "movies_df = df_dict[\"04/movies\"]\n",
    "ratings_df = df_dict[\"04/ratings\"]\n",
    "tags_df = df_dict[\"04/tags\"]\n",
    "\n",
    "movies_df.show(1, False)\n",
    "ratings_df.show(1)\n",
    "tags_df.show(1)"
   ]
  },
  {
   "cell_type": "markdown",
   "id": "566c7529-e81d-4bc4-b1b4-abfe69e4b6a5",
   "metadata": {},
   "source": [
    "#### Actividad 1:\n",
    "##### TO DO ->    Para el dataframe \"movies_df\":\n",
    "- ##### Convierte la columna \"genres\" en un array, donde cada genero corresponde a una posición del array generado. Como resultado el esquema para la columna \"genres\" será un ArrayType(StringType()). \n",
    "    - Apoyate de la función split de Spark -> https://spark.apache.org/docs/latest/api/python/reference/pyspark.sql/api/pyspark.sql.functions.split.html#pyspark.sql.functions.split\n",
    "- ##### Renombra la columna \"movieId\" por \"movie_id\""
   ]
  },
  {
   "cell_type": "code",
   "execution_count": 96,
   "id": "125e5d81-6c6a-4e23-ad26-2da273a001e2",
   "metadata": {},
   "outputs": [
    {
     "name": "stdout",
     "output_type": "stream",
     "text": [
      "+--------+--------------------+--------------------+\n",
      "|movie_id|               title|              genres|\n",
      "+--------+--------------------+--------------------+\n",
      "|       1|    Toy Story (1995)|[Adventure, Anima...|\n",
      "|       2|      Jumanji (1995)|[Adventure, Child...|\n",
      "|       3|Grumpier Old Men ...|   [Comedy, Romance]|\n",
      "|       4|Waiting to Exhale...|[Comedy, Drama, R...|\n",
      "|       5|Father of the Bri...|            [Comedy]|\n",
      "|       6|         Heat (1995)|[Action, Crime, T...|\n",
      "|       7|      Sabrina (1995)|   [Comedy, Romance]|\n",
      "|       8| Tom and Huck (1995)|[Adventure, Child...|\n",
      "|       9| Sudden Death (1995)|            [Action]|\n",
      "|      10|    GoldenEye (1995)|[Action, Adventur...|\n",
      "|      11|American Presiden...|[Comedy, Drama, R...|\n",
      "|      12|Dracula: Dead and...|    [Comedy, Horror]|\n",
      "|      13|        Balto (1995)|[Adventure, Anima...|\n",
      "|      14|        Nixon (1995)|             [Drama]|\n",
      "|      15|Cutthroat Island ...|[Action, Adventur...|\n",
      "|      16|       Casino (1995)|      [Crime, Drama]|\n",
      "|      17|Sense and Sensibi...|    [Drama, Romance]|\n",
      "|      18|   Four Rooms (1995)|            [Comedy]|\n",
      "|      19|Ace Ventura: When...|            [Comedy]|\n",
      "|      20|  Money Train (1995)|[Action, Comedy, ...|\n",
      "+--------+--------------------+--------------------+\n",
      "only showing top 20 rows\n",
      "\n"
     ]
    }
   ],
   "source": [
    "## TU CODIGO VA EN ESTA CELDA:\n",
    "# Colocar transformaciones a casted_movies_df\n",
    "#Transformación para renombrar la columna \"moveId\" -> withColumnRenamed\n",
    "#Transformación para covertir la columna \"genres\" en un array -> split\n",
    "casted_movies_df = movies_df\n",
    "\n",
    "# Importaciones\n",
    "from pyspark.sql.functions import split\n",
    "from pyspark.sql.types import ArrayType, StringType\n",
    "\n",
    "# Convertir columna \"genres\" a un array\n",
    "casted_movies_df = casted_movies_df.withColumn(\"genres\", split(casted_movies_df[\"genres\"], \"\\\\|\").cast(ArrayType(StringType())))\n",
    "\n",
    "# Renombrar la columna \"movieId\" por \"movie_id\"\n",
    "casted_movies_df = casted_movies_df.withColumnRenamed(\"movieId\", \"movie_id\")\n",
    "\n",
    "# Imprimir resultados\n",
    "casted_movies_df.show()"
   ]
  },
  {
   "cell_type": "code",
   "execution_count": 97,
   "id": "84d93c06-c004-491e-aa88-5dd31bd57426",
   "metadata": {},
   "outputs": [
    {
     "name": "stdout",
     "output_type": "stream",
     "text": [
      "+--------+----------------+-------------------------------------------------+\n",
      "|movie_id|title           |genres                                           |\n",
      "+--------+----------------+-------------------------------------------------+\n",
      "|1       |Toy Story (1995)|[Adventure, Animation, Children, Comedy, Fantasy]|\n",
      "+--------+----------------+-------------------------------------------------+\n",
      "only showing top 1 row\n",
      "\n"
     ]
    },
    {
     "data": {
      "text/plain": [
       "'\\nEjemplo de salida esperada:\\n+--------+----------------+-------------------------------------------------+\\n|movie_id|title           |genres                                           |\\n+--------+----------------+-------------------------------------------------+\\n|1       |Toy Story (1995)|[Adventure, Animation, Children, Comedy, Fantasy]|\\n+--------+----------------+-------------------------------------------------+\\nonly showing top 1 row\\n'"
      ]
     },
     "execution_count": 97,
     "metadata": {},
     "output_type": "execute_result"
    }
   ],
   "source": [
    "# NO MODIFICAR EL CONTENIDO DE ESTA CELDA\n",
    "casted_movies_df.show(1, False)\n",
    "\"\"\"\n",
    "Ejemplo de salida esperada:\n",
    "+--------+----------------+-------------------------------------------------+\n",
    "|movie_id|title           |genres                                           |\n",
    "+--------+----------------+-------------------------------------------------+\n",
    "|1       |Toy Story (1995)|[Adventure, Animation, Children, Comedy, Fantasy]|\n",
    "+--------+----------------+-------------------------------------------------+\n",
    "only showing top 1 row\n",
    "\"\"\""
   ]
  },
  {
   "cell_type": "code",
   "execution_count": 98,
   "id": "6a0e22f7-2993-4752-86e1-7cfcd9c62368",
   "metadata": {},
   "outputs": [],
   "source": [
    "# NO MODIFICAR EL CONTENIDO DE ESTA CELDA\n",
    "assert \"movie_id\" in casted_movies_df.columns\n",
    "assert \"title\" in casted_movies_df.columns\n",
    "assert \"genres\" in casted_movies_df.columns\n",
    "assert len(casted_movies_df.columns) == 3\n",
    "\n",
    "casted_movies_df = casted_movies_df.select(\"movie_id\", \"title\", \"genres\")\n",
    "assert schema_to_ddl(casted_movies_df) == 'movie_id STRING,title STRING,genres ARRAY<STRING>'"
   ]
  },
  {
   "cell_type": "markdown",
   "id": "d5b63ef2-8775-4be7-bf2f-d1917cf74134",
   "metadata": {},
   "source": [
    "#### Actividad 2:\n",
    "##### TO DO ->    Para el dataframe \"ratings_df\":\n",
    "- ##### Renombra la columna \"movieId\" por \"movie_id\"\n",
    "- ##### Renombra la columna \"userId\" por \"user_id\"\n",
    "- ##### Castea la columna \"rating\" a formato double.\n",
    "- ##### Convierte la columna \"timestamp\" a formato TimeStampType con formato logico yyyy-MM-dd HH:mm:ss, la nueva columna generada será \"time\".\n",
    "    - Utiliza la función: timestamp_seconds -> https://spark.apache.org/docs/latest/api/python/reference/pyspark.sql/api/pyspark.sql.functions.timestamp_seconds.html#pyspark.sql.functions.timestamp_seconds\n",
    "- ##### Elimina la columna \"timestamp\""
   ]
  },
  {
   "cell_type": "code",
   "execution_count": 99,
   "id": "ec962a59-7015-47bf-beeb-9801e16b9930",
   "metadata": {},
   "outputs": [
    {
     "name": "stdout",
     "output_type": "stream",
     "text": [
      "root\n",
      " |-- user_id: string (nullable = true)\n",
      " |-- movie_id: string (nullable = true)\n",
      " |-- rating: double (nullable = true)\n",
      " |-- time: timestamp (nullable = true)\n",
      "\n",
      "+-------+--------+------+-------------------+\n",
      "|user_id|movie_id|rating|               time|\n",
      "+-------+--------+------+-------------------+\n",
      "|      1|       1|   4.0|2008-11-03 11:52:19|\n",
      "|      1|     110|   4.0|2008-11-05 00:04:46|\n",
      "|      1|     158|   4.0|2008-11-03 11:31:43|\n",
      "|      1|     260|   4.5|2008-11-03 12:00:04|\n",
      "|      1|     356|   5.0|2008-11-03 11:58:39|\n",
      "|      1|     381|   3.5|2008-11-03 11:41:45|\n",
      "|      1|     596|   4.0|2008-11-03 11:32:04|\n",
      "|      1|    1036|   5.0|2008-11-03 12:07:06|\n",
      "|      1|    1049|   3.0|2008-11-03 11:41:19|\n",
      "|      1|    1066|   4.0|2008-11-03 12:29:21|\n",
      "|      1|    1196|   3.5|2008-11-03 12:04:01|\n",
      "|      1|    1200|   3.5|2008-11-03 12:11:01|\n",
      "|      1|    1210|   4.5|2008-11-03 12:00:10|\n",
      "|      1|    1214|   4.0|2008-11-03 12:20:26|\n",
      "|      1|    1291|   5.0|2008-11-03 11:53:29|\n",
      "|      1|    1293|   2.0|2008-11-03 11:37:22|\n",
      "|      1|    1376|   3.0|2008-11-03 11:32:19|\n",
      "|      1|    1396|   3.0|2008-11-03 11:32:14|\n",
      "|      1|    1537|   4.0|2008-11-03 12:24:47|\n",
      "|      1|    1909|   3.0|2008-11-03 11:35:17|\n",
      "+-------+--------+------+-------------------+\n",
      "only showing top 20 rows\n",
      "\n"
     ]
    }
   ],
   "source": [
    "## TU CODIGO VA EN ESTA CELDA:\n",
    "casted_ratings_df = ratings_df\n",
    "# Importaciones extra\n",
    "from pyspark.sql.functions import col, timestamp_seconds\n",
    "from pyspark.sql.types import DoubleType, TimestampType, LongType\n",
    "\n",
    "# Renombrar la columna \"moveId\" por \"movie_id\"\n",
    "casted_ratings_df = casted_ratings_df.withColumnRenamed(\"movieId\", \"movie_id\")\n",
    "\n",
    "# Renombrar la columna \"userId\" por \"user_id\"\n",
    "casted_ratings_df = casted_ratings_df.withColumnRenamed(\"userId\", \"user_id\")\n",
    "\n",
    "# Convertir la columna \"timestamp\" a formato TimeStampType\n",
    "casted_ratings_df = casted_ratings_df.withColumn(\"time\",timestamp_seconds(col(\"timestamp\").cast(LongType())))\n",
    "\n",
    "# Castear la columna \"rating\" a formato doble\n",
    "casted_ratings_df = casted_ratings_df.withColumn(\"rating\",col(\"rating\").cast(DoubleType()))\n",
    "\n",
    "# Eliminar la columna \"timestamp\"\n",
    "casted_ratings_df = casted_ratings_df.drop(\"timestamp\")\n",
    "\n",
    "# Imprimir resultados\n",
    "casted_ratings_df.printSchema()\n",
    "casted_ratings_df.show()"
   ]
  },
  {
   "cell_type": "code",
   "execution_count": 100,
   "id": "e59c0bd7-6c2f-4e87-8cfa-a890730346bc",
   "metadata": {},
   "outputs": [
    {
     "name": "stdout",
     "output_type": "stream",
     "text": [
      "+-------+--------+------+-------------------+\n",
      "|user_id|movie_id|rating|time               |\n",
      "+-------+--------+------+-------------------+\n",
      "|1      |1       |4.0   |2008-11-03 11:52:19|\n",
      "+-------+--------+------+-------------------+\n",
      "only showing top 1 row\n",
      "\n"
     ]
    },
    {
     "data": {
      "text/plain": [
       "'\\nEjemplo de salida esperada:\\n+-------+--------+------+-------------------+\\n|user_id|movie_id|rating|time               |\\n+-------+--------+------+-------------------+\\n|1      |1       |4.0   |2008-11-03 11:52:19|\\n+-------+--------+------+-------------------+\\nonly showing top 1 row\\n'"
      ]
     },
     "execution_count": 100,
     "metadata": {},
     "output_type": "execute_result"
    }
   ],
   "source": [
    "# NO MODIFICAR EL CONTENIDO DE ESTA CELDA\n",
    "casted_ratings_df.show(1, False)\n",
    "\"\"\"\n",
    "Ejemplo de salida esperada:\n",
    "+-------+--------+------+-------------------+\n",
    "|user_id|movie_id|rating|time               |\n",
    "+-------+--------+------+-------------------+\n",
    "|1      |1       |4.0   |2008-11-03 11:52:19|\n",
    "+-------+--------+------+-------------------+\n",
    "only showing top 1 row\n",
    "\"\"\""
   ]
  },
  {
   "cell_type": "code",
   "execution_count": 101,
   "id": "c81e64b1-251a-4bfb-9c15-480c0cd921a9",
   "metadata": {},
   "outputs": [],
   "source": [
    "# NO MODIFICAR EL CONTENIDO DE ESTA CELDA\n",
    "assert \"user_id\" in casted_ratings_df.columns\n",
    "assert \"movie_id\" in casted_ratings_df.columns\n",
    "assert \"rating\" in casted_ratings_df.columns\n",
    "assert \"time\" in casted_ratings_df.columns\n",
    "assert len(casted_ratings_df.columns) == 4\n",
    "\n",
    "casted_ratings_df = casted_ratings_df.select(\"user_id\" ,\"movie_id\", \"rating\", \"time\")\n",
    "\n",
    "assert schema_to_ddl(casted_ratings_df) == 'user_id STRING,movie_id STRING,rating DOUBLE,time TIMESTAMP'"
   ]
  },
  {
   "cell_type": "markdown",
   "id": "7e7efd40-ef6d-4f29-ad8e-1987cf1355ae",
   "metadata": {},
   "source": [
    "#### Actividad 3:\n",
    "##### TO DO ->    Para el dataframe \"ratings_df\":\n",
    "- ##### Renombra la columna \"movieId\" por \"movie_id\"\n",
    "- ##### Renombra la columna \"userId\" por \"user_id\"\n",
    "- ##### Convierte la columna \"timestamp\" a formato TimeStampType con formato logico yyyy-MM-dd HH:mm:ss, la nueva columna generada será \"time\". \n",
    "    - Utiliza la función: from_unixtime -> https://spark.apache.org/docs/latest/api/python/reference/pyspark.sql/api/pyspark.sql.functions.from_unixtime.html#pyspark.sql.functions.from_unixtime\n",
    "- ##### Elimina la columna \"timestamp\""
   ]
  },
  {
   "cell_type": "code",
   "execution_count": 102,
   "id": "4f4f725e-bfcb-4ac9-b7f3-bf6ad18bb4bb",
   "metadata": {},
   "outputs": [
    {
     "name": "stdout",
     "output_type": "stream",
     "text": [
      "root\n",
      " |-- user_id: string (nullable = true)\n",
      " |-- movie_id: string (nullable = true)\n",
      " |-- tag: string (nullable = true)\n",
      " |-- time: timestamp (nullable = true)\n",
      "\n",
      "+-------+--------+--------------------+-------------------+\n",
      "|user_id|movie_id|                 tag|               time|\n",
      "+-------+--------+--------------------+-------------------+\n",
      "| 224183|     832|              acting|2017-06-05 07:20:27|\n",
      "| 224183|     832|              action|2017-06-05 07:20:01|\n",
      "| 224183|     832|       Brawley Nolte|2017-06-05 07:19:31|\n",
      "| 224183|     832|   conspiracy theory|2017-06-05 07:20:00|\n",
      "| 224183|     832|Director: Ron Howard|2017-06-05 07:15:05|\n",
      "| 224183|     832|     Donnie Wahlberg|2017-06-05 07:19:33|\n",
      "| 224183|     832|         Gary Sinise|2017-06-05 07:19:30|\n",
      "| 224183|     832|          kidnapping|2017-06-05 07:19:57|\n",
      "| 224183|     832|      Liev Schreiber|2017-06-05 07:19:36|\n",
      "| 224183|     832|         Lili Taylor|2017-06-05 07:19:28|\n",
      "| 224183|     832|          Mel Gibson|2017-06-05 07:19:28|\n",
      "| 224183|     832|          Ron Howard|2017-06-05 07:20:26|\n",
      "| 224183|     832|soundtrack: James...|2017-06-05 07:19:38|\n",
      "| 224183|     832|               tense|2017-06-05 07:19:55|\n",
      "| 224183|     832|            thriller|2017-06-05 07:19:54|\n",
      "| 224183|     832|Writer: Alexander...|2017-06-05 07:19:39|\n",
      "| 224183|     832|  Writer: Cyril Hume|2017-06-05 07:19:44|\n",
      "| 224183|     832|Writer: Richard M...|2017-06-05 07:19:42|\n",
      "| 224183|     832|Writer: Richard P...|2017-06-05 07:19:41|\n",
      "| 224183|     866|         atmospheric|2017-08-18 06:38:47|\n",
      "+-------+--------+--------------------+-------------------+\n",
      "only showing top 20 rows\n",
      "\n"
     ]
    }
   ],
   "source": [
    "## TU CODIGO VA EN ESTA CELDA:\n",
    "\n",
    "casted_tags_df = tags_df # Colocar transformaciones a tags_df\n",
    "\n",
    "# Importaciones extra\n",
    "from pyspark.sql.functions import col, from_unixtime\n",
    "from pyspark.sql.types import TimestampType\n",
    "\n",
    "# Renombrar la columna \"movieId\" por \"movie_id\"\n",
    "casted_tags_df = casted_tags_df.withColumnRenamed(\"movieId\", \"movie_id\")\n",
    "\n",
    "# Renombrar la columnda \"userId\" por \"user_id\"\n",
    "casted_tags_df = casted_tags_df.withColumnRenamed(\"userId\", \"user_id\")\n",
    "\n",
    "# Convertir la columna \"timestamp\" a formato TimestampType y con el nombre \"time\"\n",
    "casted_tags_df = casted_tags_df.withColumn(\"time\",from_unixtime('timestamp').cast(TimestampType()))\n",
    "\n",
    "                                       \n",
    "# Eliminar la columna \"timestamp\"\n",
    "casted_tags_df = casted_tags_df.drop(\"timestamp\")\n",
    "\n",
    "# Imprimir resultados\n",
    "casted_tags_df.printSchema()\n",
    "casted_tags_df.show()\n"
   ]
  },
  {
   "cell_type": "code",
   "execution_count": 103,
   "id": "fab614d2-bcbd-4e83-a70c-e606766608b8",
   "metadata": {},
   "outputs": [
    {
     "name": "stdout",
     "output_type": "stream",
     "text": [
      "root\n",
      " |-- unix_time: long (nullable = true)\n",
      "\n",
      "+----------+\n",
      "| unix_time|\n",
      "+----------+\n",
      "|1428476400|\n",
      "+----------+\n",
      "\n",
      "root\n",
      " |-- unix_time: long (nullable = true)\n",
      " |-- ts: timestamp (nullable = true)\n",
      "\n",
      "+----------+-------------------+\n",
      "| unix_time|                 ts|\n",
      "+----------+-------------------+\n",
      "|1428476400|2015-04-08 01:00:00|\n",
      "+----------+-------------------+\n",
      "\n"
     ]
    }
   ],
   "source": [
    "#Ejemplo de la documentación\n",
    "from pyspark.sql.functions import col, from_unixtime\n",
    "from pyspark.sql.types import DoubleType, TimestampType\n",
    "time_df = spark.createDataFrame([(1428476400,)], ['unix_time'])\n",
    "time_df.printSchema()\n",
    "time_df.show()\n",
    "time2 = time_df.withColumn(\"ts\",from_unixtime('unix_time').cast(TimestampType()).alias('ts'))\n",
    "time2.printSchema()\n",
    "time2.show()"
   ]
  },
  {
   "cell_type": "code",
   "execution_count": 104,
   "id": "35c35718-09c8-4675-94d5-6d6578ad6a62",
   "metadata": {},
   "outputs": [
    {
     "name": "stdout",
     "output_type": "stream",
     "text": [
      "+-------+--------+------+-------------------+\n",
      "|user_id|movie_id|   tag|               time|\n",
      "+-------+--------+------+-------------------+\n",
      "| 224183|     832|acting|2017-06-05 07:20:27|\n",
      "+-------+--------+------+-------------------+\n",
      "only showing top 1 row\n",
      "\n"
     ]
    },
    {
     "data": {
      "text/plain": [
       "'\\nEjemplo de salida esperada:\\n+-------+--------+------+-------------------+\\n|user_id|movie_id|   tag|               time|\\n+-------+--------+------+-------------------+\\n| 224183|     832|acting|2017-06-05 07:20:27|\\n+-------+--------+------+-------------------+\\nonly showing top 1 row\\n'"
      ]
     },
     "execution_count": 104,
     "metadata": {},
     "output_type": "execute_result"
    }
   ],
   "source": [
    "# NO MODIFICAR EL CONTENIDO DE ESTA CELDA\n",
    "casted_tags_df.show(1)\n",
    "\"\"\"\n",
    "Ejemplo de salida esperada:\n",
    "+-------+--------+------+-------------------+\n",
    "|user_id|movie_id|   tag|               time|\n",
    "+-------+--------+------+-------------------+\n",
    "| 224183|     832|acting|2017-06-05 07:20:27|\n",
    "+-------+--------+------+-------------------+\n",
    "only showing top 1 row\n",
    "\"\"\""
   ]
  },
  {
   "cell_type": "code",
   "execution_count": 105,
   "id": "c9ac0cb1-044e-407e-b437-1e6cf4b56550",
   "metadata": {},
   "outputs": [],
   "source": [
    "# NO MODIFICAR EL CONTENIDO DE ESTA CELDA\n",
    "assert \"user_id\" in casted_tags_df.columns\n",
    "assert \"movie_id\" in casted_tags_df.columns\n",
    "assert \"tag\" in casted_tags_df.columns\n",
    "assert \"time\" in casted_tags_df.columns\n",
    "assert len(casted_tags_df.columns) == 4\n",
    "\n",
    "casted_tags_df = casted_tags_df.select(\"user_id\" ,\"movie_id\", \"tag\", \"time\")\n",
    "\n",
    "assert schema_to_ddl(casted_tags_df) == 'user_id STRING,movie_id STRING,tag STRING,time TIMESTAMP'"
   ]
  },
  {
   "cell_type": "code",
   "execution_count": 106,
   "id": "d580bddc-6eed-4a0f-9289-edbd73370e8f",
   "metadata": {},
   "outputs": [],
   "source": [
    "# NO MODIFICAR EL CONTENIDO DE ESTA CELDA\n",
    "dfs = [(casted_movies_df, \"05/movies\"),\n",
    "       (casted_tags_df, \"05/tags\"),\n",
    "       (casted_ratings_df, \"05/ratings\")]\n",
    "\n",
    "write_tmp_df(dfs)"
   ]
  },
  {
   "cell_type": "code",
   "execution_count": null,
   "id": "491a7ef2-04fe-4910-85b4-bcd2acf68bff",
   "metadata": {},
   "outputs": [],
   "source": []
  }
 ],
 "metadata": {
  "kernelspec": {
   "display_name": "Python 3 (ipykernel)",
   "language": "python",
   "name": "python3"
  },
  "language_info": {
   "codemirror_mode": {
    "name": "ipython",
    "version": 3
   },
   "file_extension": ".py",
   "mimetype": "text/x-python",
   "name": "python",
   "nbconvert_exporter": "python",
   "pygments_lexer": "ipython3",
   "version": "3.9.13"
  }
 },
 "nbformat": 4,
 "nbformat_minor": 5
}
