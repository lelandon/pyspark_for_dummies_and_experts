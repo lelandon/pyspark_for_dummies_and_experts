{
 "cells": [
  {
   "cell_type": "markdown",
   "id": "fc26ebe0-9fe4-49ce-9970-c45aa5c280db",
   "metadata": {},
   "source": [
    "#### El cliente ha corroborado que podemos manejar RDD's pero el CORE a utilizar será dataframes, nos han solicitado crear algunas funciones para cargar archivos en formato csv y almacenarlos en formato parquet. ¿Por qué en parquet? Hecha un ojo a esto (vendrá en la evaluación final):\n",
    "#### https://www.databricks.com/glossary/what-is-parquet\n",
    "#### Cuando termines resuelve cada actividad planteada"
   ]
  },
  {
   "cell_type": "markdown",
   "id": "dba45903-1c28-444b-9af0-6442a36468a6",
   "metadata": {},
   "source": [
    "#### Actividad 1:\n",
    "##### TO DO: Crear sparkSession con appName \"ejercicio_4\", y master \"local[*]\", almacenar sesion de spark en una variable llamada \"spark\""
   ]
  },
  {
   "cell_type": "code",
   "execution_count": 33,
   "id": "7a07f4ae-96d0-48c9-ad50-753c52b0ec30",
   "metadata": {},
   "outputs": [],
   "source": [
    "# Declaración de librerias\n",
    "from pyspark.sql import SparkSession, DataFrame"
   ]
  },
  {
   "cell_type": "code",
   "execution_count": 34,
   "id": "71db4bec-ce2a-4b44-98d0-4fbdab40ff18",
   "metadata": {},
   "outputs": [],
   "source": [
    "## TU CODIGO VA EN ESTA CELDA:\n",
    "# levantar sesion de spark\n",
    "spark = SparkSession.builder.appName(\"ejercicio_4\").master(\"local[*]\").getOrCreate() # levantar sesión de spark\n",
    "sc = spark.sparkContext # crear contexto de spark"
   ]
  },
  {
   "cell_type": "code",
   "execution_count": 35,
   "id": "a96f213c-5230-4a4d-9b01-d28e073d0c5f",
   "metadata": {},
   "outputs": [],
   "source": [
    "# NO MODIFICAR CONTENIDO DE ESTA CELDA\n",
    "assert type(spark) == SparkSession\n",
    "assert spark.sparkContext.getConf().get(\"spark.master\") == \"local[*]\"\n",
    "assert spark.sparkContext.getConf().get(\"spark.app.name\") == \"ejercicio_4\""
   ]
  },
  {
   "cell_type": "markdown",
   "id": "566c7529-e81d-4bc4-b1b4-abfe69e4b6a5",
   "metadata": {},
   "source": [
    "#### Actividad 2:\n",
    "##### TO DO ->    Crear un método para leer un archivo en formato csv, no inferir el esquema, los archivos si incluyen header, el separador es \",\"\n",
    "- ##### retorna ->  dataframe correspondiente a la lectura\n",
    "- ##### firma ->    def read_csv(path: str) -> DataFrame"
   ]
  },
  {
   "cell_type": "code",
   "execution_count": 36,
   "id": "636335bd-d238-410c-ab45-bcdb6c732fe2",
   "metadata": {},
   "outputs": [],
   "source": [
    "## TU CODIGO VA EN ESTA CELDA:\n",
    "def read_csv(path: str) -> DataFrame:\n",
    "    return spark.read\\\n",
    "        .option(\"header\",\"true\")\\\n",
    "        .option(\"delimiter\",\",\")\\\n",
    "        .option(\"inferSchema\",\"false\")\\\n",
    "        .csv(path)"
   ]
  },
  {
   "cell_type": "code",
   "execution_count": 37,
   "id": "adb49e98-a62e-4324-af0b-626ec21c02ab",
   "metadata": {},
   "outputs": [],
   "source": [
    "# NO MODIFICAR CONTENIDO DE ESTA CELDA\n",
    "from pyspark.sql import DataFrame\n",
    "\n",
    "root_path = \"../resources/data/csv/\"\n",
    "\n",
    "movies_df = read_csv(root_path + \"movies.csv\")\n",
    "ratings_df = read_csv(root_path + \"ratings.csv\")\n",
    "tags_df = read_csv(root_path + \"tags.csv\")\n",
    "\n",
    "def schema_to_ddl(df):\n",
    "    return spark.sparkContext._jvm.org.apache.spark.sql.types.DataType.fromJson(df.schema.json()).toDDL()\n",
    "\n",
    "assert (type(movies_df) == DataFrame) & (type(ratings_df) == DataFrame) & (type(tags_df) == DataFrame)\n",
    "assert (movies_df.count() == 86537) & (ratings_df.count() == 33832162) & (tags_df.count() == 2328315)\n",
    "assert schema_to_ddl(movies_df) == 'movieId STRING,title STRING,genres STRING'\n",
    "assert schema_to_ddl(ratings_df) == 'userId STRING,movieId STRING,rating STRING,timestamp STRING'\n",
    "assert schema_to_ddl(tags_df) == 'userId STRING,movieId STRING,tag STRING,timestamp STRING'"
   ]
  },
  {
   "cell_type": "markdown",
   "id": "7a7cb1f3-2308-4ea6-94da-1d61f040941b",
   "metadata": {},
   "source": [
    "#### Actividad 3:\n",
    "##### TO DO ->    Crear un método para escribir un dataframe con las siguientes caracteristicas:\n",
    "- ##### formato: parquet\n",
    "- ##### modo de escritura: overwrite\n",
    "- ##### firma: def write_parquet(df: DataFrame, path: str):"
   ]
  },
  {
   "cell_type": "code",
   "execution_count": 38,
   "id": "08393772-6be3-4bc8-acea-1856800a3b18",
   "metadata": {},
   "outputs": [],
   "source": [
    "## TU CODIGO VA EN ESTA CELDA:\n",
    "def write_parquet(df: DataFrame, path: str):\n",
    "    return df.write.mode(\"overwrite\").parquet(path)\n",
    "    "
   ]
  },
  {
   "cell_type": "code",
   "execution_count": 39,
   "id": "9ee1cea1-a37e-4027-9520-abfca31b3bdf",
   "metadata": {},
   "outputs": [],
   "source": [
    "# NO MODIFICAR CONTENIDO DE ESTA CELDA\n",
    "\n",
    "root_path = \"../resources/data/tmp/parquet/04/\"\n",
    "\n",
    "write_parquet(movies_df, root_path + \"movies\")\n",
    "write_parquet(ratings_df, root_path + \"ratings\")\n",
    "write_parquet(tags_df, root_path + \"tags\")\n",
    "\n",
    "_movies_df = spark.read.parquet(root_path + \"movies\")\n",
    "_ratings_df = spark.read.parquet(root_path + \"ratings\")\n",
    "_tags_df = spark.read.parquet(root_path + \"tags\")\n",
    "\n",
    "assert _movies_df.count() == 86537\n",
    "assert _ratings_df.count() == 33832162\n",
    "assert _tags_df.count() == 2328315"
   ]
  },
  {
   "cell_type": "code",
   "execution_count": null,
   "id": "4d814457-8f21-435f-94cd-ccbc37710670",
   "metadata": {},
   "outputs": [],
   "source": []
  }
 ],
 "metadata": {
  "kernelspec": {
   "display_name": "Python 3 (ipykernel)",
   "language": "python",
   "name": "python3"
  },
  "language_info": {
   "codemirror_mode": {
    "name": "ipython",
    "version": 3
   },
   "file_extension": ".py",
   "mimetype": "text/x-python",
   "name": "python",
   "nbconvert_exporter": "python",
   "pygments_lexer": "ipython3",
   "version": "3.9.13"
  }
 },
 "nbformat": 4,
 "nbformat_minor": 5
}
