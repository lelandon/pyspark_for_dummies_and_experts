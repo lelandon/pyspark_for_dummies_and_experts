{
 "cells": [
  {
   "cell_type": "markdown",
   "id": "a9199e75-cfa1-4b94-a28d-7f5ff788bf1c",
   "metadata": {},
   "source": [
    "#### Alguien le contó al cliente que el uso de withColumn y withColumnRenamed no correspondian a las best-practices dentro del desarrollo con Apache Spark, por lo tanto ha solicitado que hagan las transformaciones utilizando únicamente instrucciones de tipo Select. Adicional nos ha solicitado agregar algunas operaciones de limpieza no contempladas anteriormente. Presta mucha atención a cada requerimiento solicitado.\n",
    "\n",
    "#### Por si fuera poco nos ha solicitado filtrar algunos datos que no le serán de utilidad y agregar una columna adicional al dataframe movies_df donde requiere el uso de expresiones regulares (por suerte un especialista nos ha dado las expresiones regulares a utilizar). No estaría mal estudiar un poco sobre expresiones regulares si consideras que no dominas el tema. \n",
    "\n",
    "##### Nota: Para poder trabajar con este notebook es necesario haber terminado el ejercicio de la sesión 04"
   ]
  },
  {
   "cell_type": "code",
   "execution_count": 1,
   "id": "2d7bef44-cd72-4c99-ba8e-8f2fb832e6c4",
   "metadata": {},
   "outputs": [
    {
     "data": {
      "text/html": [
       "<style>pre { white-space: pre !important; }</style>"
      ],
      "text/plain": [
       "<IPython.core.display.HTML object>"
      ]
     },
     "metadata": {},
     "output_type": "display_data"
    }
   ],
   "source": [
    "# NO MODIFICAR EL CONTENIDO DE ESTA CELDA\n",
    "%run utils.ipynb"
   ]
  },
  {
   "cell_type": "code",
   "execution_count": 18,
   "id": "b0678da8-912b-4dee-909e-244e511ebcfe",
   "metadata": {},
   "outputs": [
    {
     "name": "stdout",
     "output_type": "stream",
     "text": [
      "+-------+----------------+-------------------------------------------+\n",
      "|movieId|title           |genres                                     |\n",
      "+-------+----------------+-------------------------------------------+\n",
      "|1      |Toy Story (1995)|Adventure|Animation|Children|Comedy|Fantasy|\n",
      "+-------+----------------+-------------------------------------------+\n",
      "only showing top 1 row\n",
      "\n",
      "+------+-------+------+----------+\n",
      "|userId|movieId|rating| timestamp|\n",
      "+------+-------+------+----------+\n",
      "|     1|      1|   4.0|1225734739|\n",
      "+------+-------+------+----------+\n",
      "only showing top 1 row\n",
      "\n",
      "+------+-------+------+----------+\n",
      "|userId|movieId|   tag| timestamp|\n",
      "+------+-------+------+----------+\n",
      "|224183|    832|acting|1496668827|\n",
      "+------+-------+------+----------+\n",
      "only showing top 1 row\n",
      "\n"
     ]
    }
   ],
   "source": [
    "# NO MODIFICAR CONTENIDO DE ESTA CELDA\n",
    "from pyspark.sql import SparkSession\n",
    "import pyspark.sql.functions as f\n",
    "import pyspark.sql.types as t\n",
    "\n",
    "# Creación de sesión de Spark\n",
    "spark = SparkSession.builder \\\n",
    "    .master(\"local[*]\") \\\n",
    "    .appName(\"ejercicio_6\") \\\n",
    "    .getOrCreate()\n",
    "\n",
    "# Carga de tablas requeridas\n",
    "root_path = \"../resources/data/tmp/parquet/\"\n",
    "names_list = [\"04/movies\", \"04/ratings\", \"04/tags\"]\n",
    "df_dict = read_tmp_df(names_list)\n",
    "\n",
    "movies_df = df_dict[\"04/movies\"]\n",
    "ratings_df = df_dict[\"04/ratings\"]\n",
    "tags_df = df_dict[\"04/tags\"]\n",
    "\n",
    "movies_df.show(1, False)\n",
    "ratings_df.show(1)\n",
    "tags_df.show(1)"
   ]
  },
  {
   "cell_type": "markdown",
   "id": "566c7529-e81d-4bc4-b1b4-abfe69e4b6a5",
   "metadata": {},
   "source": [
    "#### Actividad 1:\n",
    "##### TO DO ->    Para el dataframe \"movies_df\":\n",
    "- ##### El archivo contiene espacios a la izquiera y derecha en la columna \"title\". Elimina estos espacios.\n",
    "    - Apoyate de la funcion trim -> https://spark.apache.org/docs/latest/api/python/reference/pyspark.sql/api/pyspark.sql.functions.trim.html#pyspark.sql.functions.trim\n",
    "- ##### Convierte la columna \"genres\" en un array, donde cada genero corresponde a una posición del array generado. Como resultado el esquema para la columna \"genres\" será un ArrayType(StringType()). \n",
    "    - Apoyate de la función split de Spark -> https://spark.apache.org/docs/latest/api/python/reference/pyspark.sql/api/pyspark.sql.functions.split.html#pyspark.sql.functions.split\n",
    "- ##### Renombra la columna \"movieId\" por \"movie_id\"\n",
    "\n",
    "##### NO UTILIZAR withColumn NI withColumnRenamed"
   ]
  },
  {
   "cell_type": "code",
   "execution_count": 19,
   "id": "125e5d81-6c6a-4e23-ad26-2da273a001e2",
   "metadata": {},
   "outputs": [
    {
     "name": "stdout",
     "output_type": "stream",
     "text": [
      "+--------+--------------------+--------------------+\n",
      "|movie_id|               title|              genres|\n",
      "+--------+--------------------+--------------------+\n",
      "|       1|    Toy Story (1995)|[Adventure, Anima...|\n",
      "|       2|      Jumanji (1995)|[Adventure, Child...|\n",
      "|       3|Grumpier Old Men ...|   [Comedy, Romance]|\n",
      "|       4|Waiting to Exhale...|[Comedy, Drama, R...|\n",
      "|       5|Father of the Bri...|            [Comedy]|\n",
      "|       6|         Heat (1995)|[Action, Crime, T...|\n",
      "|       7|      Sabrina (1995)|   [Comedy, Romance]|\n",
      "|       8| Tom and Huck (1995)|[Adventure, Child...|\n",
      "|       9| Sudden Death (1995)|            [Action]|\n",
      "|      10|    GoldenEye (1995)|[Action, Adventur...|\n",
      "|      11|American Presiden...|[Comedy, Drama, R...|\n",
      "|      12|Dracula: Dead and...|    [Comedy, Horror]|\n",
      "|      13|        Balto (1995)|[Adventure, Anima...|\n",
      "|      14|        Nixon (1995)|             [Drama]|\n",
      "|      15|Cutthroat Island ...|[Action, Adventur...|\n",
      "|      16|       Casino (1995)|      [Crime, Drama]|\n",
      "|      17|Sense and Sensibi...|    [Drama, Romance]|\n",
      "|      18|   Four Rooms (1995)|            [Comedy]|\n",
      "|      19|Ace Ventura: When...|            [Comedy]|\n",
      "|      20|  Money Train (1995)|[Action, Comedy, ...|\n",
      "+--------+--------------------+--------------------+\n",
      "only showing top 20 rows\n",
      "\n"
     ]
    }
   ],
   "source": [
    "## TU CODIGO VA EN ESTA CELDA:\n",
    "casted_movies_df = movies_df # aplicar transformaciones a movies_df\n",
    "\n",
    "# Importaciones extra\n",
    "from pyspark.sql.functions import trim\n",
    "from pyspark.sql.functions import split\n",
    "from pyspark.sql import functions as F\n",
    "from pyspark.sql.types import ArrayType, StringType\n",
    "\n",
    "\n",
    "# Eliminar espacios en la columna de \"title\"\n",
    "casted_movies_df = casted_movies_df.select(\"movieId\",trim(casted_movies_df[\"title\"]).alias(\"title\"), \"genres\")\n",
    "\n",
    "# Convertir la columna \"genres\" en un array\n",
    "casted_movies_df = casted_movies_df.select(\"movieId\", \"title\", split(casted_movies_df[\"genres\"], \"\\\\|\").cast(ArrayType(StringType())).alias(\"genres\"))\n",
    "\n",
    "# Renombrar la columna \"movieId\" por \"movie_id\"\n",
    "casted_movies_df = casted_movies_df.select(casted_movies_df[\"movieId\"].alias(\"movie_id\"), \"title\", \"genres\")\n",
    "\n",
    "# Imprimir resultados\n",
    "casted_movies_df.show()"
   ]
  },
  {
   "cell_type": "code",
   "execution_count": 20,
   "id": "d8cc2506-da77-4383-9a13-180ee3d6b755",
   "metadata": {},
   "outputs": [
    {
     "name": "stdout",
     "output_type": "stream",
     "text": [
      "+--------+----------------+-------------------------------------------------+\n",
      "|movie_id|title           |genres                                           |\n",
      "+--------+----------------+-------------------------------------------------+\n",
      "|1       |Toy Story (1995)|[Adventure, Animation, Children, Comedy, Fantasy]|\n",
      "+--------+----------------+-------------------------------------------------+\n",
      "only showing top 1 row\n",
      "\n"
     ]
    },
    {
     "data": {
      "text/plain": [
       "'\\nEjemplo de salida esperada:\\n+----------------+-------------------------------------------------+--------+\\n|title           |genres                                           |movie_id|\\n+----------------+-------------------------------------------------+--------+\\n|Toy Story (1995)|[Adventure, Animation, Children, Comedy, Fantasy]|1       |\\n+----------------+-------------------------------------------------+--------+\\nonly showing top 1 row\\n'"
      ]
     },
     "execution_count": 20,
     "metadata": {},
     "output_type": "execute_result"
    }
   ],
   "source": [
    "# NO MODIFICAR EL CONTENIDO DE ESTA CELDA\n",
    "casted_movies_df.show(1, False)\n",
    "\"\"\"\n",
    "Ejemplo de salida esperada:\n",
    "+----------------+-------------------------------------------------+--------+\n",
    "|title           |genres                                           |movie_id|\n",
    "+----------------+-------------------------------------------------+--------+\n",
    "|Toy Story (1995)|[Adventure, Animation, Children, Comedy, Fantasy]|1       |\n",
    "+----------------+-------------------------------------------------+--------+\n",
    "only showing top 1 row\n",
    "\"\"\""
   ]
  },
  {
   "cell_type": "code",
   "execution_count": 21,
   "id": "6a0e22f7-2993-4752-86e1-7cfcd9c62368",
   "metadata": {},
   "outputs": [],
   "source": [
    "# NO MODIFICAR EL CONTENIDO DE ESTA CELDA\n",
    "assert \"movie_id\" in casted_movies_df.columns\n",
    "assert \"title\" in casted_movies_df.columns\n",
    "assert \"genres\" in casted_movies_df.columns\n",
    "assert len(casted_movies_df.columns) == 3\n",
    "\n",
    "casted_movies_df = casted_movies_df.select(\"movie_id\", \"title\", \"genres\")\n",
    "assert schema_to_ddl(casted_movies_df) == 'movie_id STRING,title STRING,genres ARRAY<STRING>'"
   ]
  },
  {
   "cell_type": "markdown",
   "id": "d5b63ef2-8775-4be7-bf2f-d1917cf74134",
   "metadata": {},
   "source": [
    "#### Actividad 2:\n",
    "##### TO DO ->    Para el dataframe \"ratings_df\":\n",
    "- ##### Renombra la columna \"movieId\" por \"movie_id\"\n",
    "- ##### Renombra la columna \"userId\" por \"user_id\"\n",
    "- ##### Castea la columna \"rating\" a formato double.\n",
    "- ##### Convierte la columna \"timestamp\" a formato TimeStampType con formato logico yyyy-MM-dd HH:mm:ss, la nueva columna generada será \"time\". \n",
    "    - Utiliza la función: timestamp_seconds de Spark -> https://spark.apache.org/docs/latest/api/python/reference/pyspark.sql/api/pyspark.sql.functions.timestamp_seconds.html#pyspark.sql.functions.timestamp_seconds\n",
    "- ##### Elimina la columna \"timestamp\"\n",
    "##### NO UTILIZAR withColumn NI withColumnRenamed"
   ]
  },
  {
   "cell_type": "code",
   "execution_count": 46,
   "id": "ec962a59-7015-47bf-beeb-9801e16b9930",
   "metadata": {},
   "outputs": [
    {
     "name": "stdout",
     "output_type": "stream",
     "text": [
      "+--------+-------+------+-------------------+\n",
      "|movie_id|user_id|rating|               time|\n",
      "+--------+-------+------+-------------------+\n",
      "|       1|      1|   4.0|2008-11-03 11:52:19|\n",
      "|     110|      1|   4.0|2008-11-05 00:04:46|\n",
      "|     158|      1|   4.0|2008-11-03 11:31:43|\n",
      "|     260|      1|   4.5|2008-11-03 12:00:04|\n",
      "|     356|      1|   5.0|2008-11-03 11:58:39|\n",
      "|     381|      1|   3.5|2008-11-03 11:41:45|\n",
      "|     596|      1|   4.0|2008-11-03 11:32:04|\n",
      "|    1036|      1|   5.0|2008-11-03 12:07:06|\n",
      "|    1049|      1|   3.0|2008-11-03 11:41:19|\n",
      "|    1066|      1|   4.0|2008-11-03 12:29:21|\n",
      "|    1196|      1|   3.5|2008-11-03 12:04:01|\n",
      "|    1200|      1|   3.5|2008-11-03 12:11:01|\n",
      "|    1210|      1|   4.5|2008-11-03 12:00:10|\n",
      "|    1214|      1|   4.0|2008-11-03 12:20:26|\n",
      "|    1291|      1|   5.0|2008-11-03 11:53:29|\n",
      "|    1293|      1|   2.0|2008-11-03 11:37:22|\n",
      "|    1376|      1|   3.0|2008-11-03 11:32:19|\n",
      "|    1396|      1|   3.0|2008-11-03 11:32:14|\n",
      "|    1537|      1|   4.0|2008-11-03 12:24:47|\n",
      "|    1909|      1|   3.0|2008-11-03 11:35:17|\n",
      "+--------+-------+------+-------------------+\n",
      "only showing top 20 rows\n",
      "\n"
     ]
    }
   ],
   "source": [
    "## TU CODIGO VA EN ESTA CELDA:\n",
    "casted_ratings_df = ratings_df # aplicar transformaciones a ratings_df\n",
    "\n",
    "# Importaciones extra\n",
    "from pyspark.sql.functions import col, timestamp_seconds\n",
    "from pyspark.sql.types import DoubleType, LongType, TimestampType\n",
    "\n",
    "# Renombrar las columnas y cambio de formatos (Double y TimeStampType)\n",
    "casted_ratings_df = casted_ratings_df.select(\n",
    "    col(\"movieId\").alias(\"movie_id\"),\n",
    "    col(\"userId\").alias(\"user_id\"),\n",
    "    col(\"rating\").cast(DoubleType()).alias(\"rating\"),\n",
    "    (timestamp_seconds(col(\"timestamp\").cast(LongType())).alias(\"time\"))\n",
    ")\n",
    "\n",
    "# Eliminar columna \"timestamp\"\n",
    "casted_ratings_df = casted_ratings_df.drop(\"timestamp\")\n",
    "\n",
    "#Imprimir resultados\n",
    "casted_ratings_df.show()"
   ]
  },
  {
   "cell_type": "code",
   "execution_count": 47,
   "id": "b44a4e0c-e6ae-41be-9010-51d705e3bcf9",
   "metadata": {},
   "outputs": [
    {
     "name": "stdout",
     "output_type": "stream",
     "text": [
      "+--------+-------+------+-------------------+\n",
      "|movie_id|user_id|rating|               time|\n",
      "+--------+-------+------+-------------------+\n",
      "|       1|      1|   4.0|2008-11-03 11:52:19|\n",
      "+--------+-------+------+-------------------+\n",
      "only showing top 1 row\n",
      "\n"
     ]
    },
    {
     "data": {
      "text/plain": [
       "'\\nEjemplo de salida esperada:\\n+-------+--------+------+-------------------+\\n|user_id|movie_id|rating|               time|\\n+-------+--------+------+-------------------+\\n|      1|       1|   4.0|2008-11-03 11:52:19|\\n+-------+--------+------+-------------------+\\nonly showing top 1 row\\n'"
      ]
     },
     "execution_count": 47,
     "metadata": {},
     "output_type": "execute_result"
    }
   ],
   "source": [
    "# NO MODIFICAR EL CONTENIDO DE ESTA CELDA\n",
    "casted_ratings_df.show(1)\n",
    "\"\"\"\n",
    "Ejemplo de salida esperada:\n",
    "+-------+--------+------+-------------------+\n",
    "|user_id|movie_id|rating|               time|\n",
    "+-------+--------+------+-------------------+\n",
    "|      1|       1|   4.0|2008-11-03 11:52:19|\n",
    "+-------+--------+------+-------------------+\n",
    "only showing top 1 row\n",
    "\"\"\""
   ]
  },
  {
   "cell_type": "code",
   "execution_count": 48,
   "id": "c81e64b1-251a-4bfb-9c15-480c0cd921a9",
   "metadata": {},
   "outputs": [],
   "source": [
    "# NO MODIFICAR EL CONTENIDO DE ESTA CELDA\n",
    "assert \"user_id\" in casted_ratings_df.columns\n",
    "assert \"movie_id\" in casted_ratings_df.columns\n",
    "assert \"rating\" in casted_ratings_df.columns\n",
    "assert \"time\" in casted_ratings_df.columns\n",
    "assert len(casted_ratings_df.columns) == 4\n",
    "\n",
    "casted_ratings_df = casted_ratings_df.select(\"user_id\" ,\"movie_id\", \"rating\", \"time\")\n",
    "\n",
    "assert schema_to_ddl(casted_ratings_df) == 'user_id STRING,movie_id STRING,rating DOUBLE,time TIMESTAMP'"
   ]
  },
  {
   "cell_type": "markdown",
   "id": "7e7efd40-ef6d-4f29-ad8e-1987cf1355ae",
   "metadata": {},
   "source": [
    "#### Actividad 3:\n",
    "##### TO DO ->    Para el dataframe \"ratings_df\":\n",
    "- ##### Renombra la columna \"movieId\" por \"movie_id\"\n",
    "- ##### Renombra la columna \"userId\" por \"user_id\"\n",
    "- ##### Convierte la columna \"timestamp\" a formato TimeStampType con formato logico yyyy-MM-dd HH:mm:ss, la nueva columna generada será \"time\". \n",
    "    - Utiliza la función: from_unixtime -> https://spark.apache.org/docs/latest/api/python/reference/pyspark.sql/api/pyspark.sql.functions.from_unixtime.html#pyspark.sql.functions.from_unixtime\n",
    "- ##### Elimina la columna \"timestamp\"\n",
    "##### NO UTILIZAR withColumn NI withColumnRenamed"
   ]
  },
  {
   "cell_type": "code",
   "execution_count": 67,
   "id": "4f4f725e-bfcb-4ac9-b7f3-bf6ad18bb4bb",
   "metadata": {},
   "outputs": [
    {
     "name": "stdout",
     "output_type": "stream",
     "text": [
      "+--------+-------+--------------------+-------------------+\n",
      "|movie_id|user_id|                 tag|               time|\n",
      "+--------+-------+--------------------+-------------------+\n",
      "|     832| 224183|              acting|2017-06-05 07:20:27|\n",
      "|     832| 224183|              action|2017-06-05 07:20:01|\n",
      "|     832| 224183|       Brawley Nolte|2017-06-05 07:19:31|\n",
      "|     832| 224183|   conspiracy theory|2017-06-05 07:20:00|\n",
      "|     832| 224183|Director: Ron Howard|2017-06-05 07:15:05|\n",
      "|     832| 224183|     Donnie Wahlberg|2017-06-05 07:19:33|\n",
      "|     832| 224183|         Gary Sinise|2017-06-05 07:19:30|\n",
      "|     832| 224183|          kidnapping|2017-06-05 07:19:57|\n",
      "|     832| 224183|      Liev Schreiber|2017-06-05 07:19:36|\n",
      "|     832| 224183|         Lili Taylor|2017-06-05 07:19:28|\n",
      "|     832| 224183|          Mel Gibson|2017-06-05 07:19:28|\n",
      "|     832| 224183|          Ron Howard|2017-06-05 07:20:26|\n",
      "|     832| 224183|soundtrack: James...|2017-06-05 07:19:38|\n",
      "|     832| 224183|               tense|2017-06-05 07:19:55|\n",
      "|     832| 224183|            thriller|2017-06-05 07:19:54|\n",
      "|     832| 224183|Writer: Alexander...|2017-06-05 07:19:39|\n",
      "|     832| 224183|  Writer: Cyril Hume|2017-06-05 07:19:44|\n",
      "|     832| 224183|Writer: Richard M...|2017-06-05 07:19:42|\n",
      "|     832| 224183|Writer: Richard P...|2017-06-05 07:19:41|\n",
      "|     866| 224183|         atmospheric|2017-08-18 06:38:47|\n",
      "+--------+-------+--------------------+-------------------+\n",
      "only showing top 20 rows\n",
      "\n"
     ]
    }
   ],
   "source": [
    "## TU CODIGO VA EN ESTA CELDA:\n",
    "casted_tags_df = tags_df # aplicar transformaciones a tags_df\n",
    "\n",
    "# Importaciones extra\n",
    "from pyspark.sql.functions import col, from_unixtime\n",
    "from pyspark.sql.types import TimestampType\n",
    "\n",
    "# Renombrar columnas y convertir \"timestamp\" a TimeStampType\n",
    "# Se agregó \"tag\" porque no me aparecia en el dataframe resultante\n",
    "casted_tags_df = casted_tags_df.select(\n",
    "    col(\"movieId\").alias(\"movie_id\"),\n",
    "    col(\"userId\").alias(\"user_id\"),\n",
    "    col(\"tag\"),\n",
    "    (from_unixtime(col(\"timestamp\"), \"yyyy-MM-dd HH:mm:ss\").cast(TimestampType()).alias(\"time\"))\n",
    ")\n",
    "\n",
    "# Eliminar columna \"timestamp\"\n",
    "casted_tags_df = casted_tags_df.drop(\"timestamp\")\n",
    "\n",
    "# Imprimir resultados\n",
    "casted_tags_df.show()"
   ]
  },
  {
   "cell_type": "code",
   "execution_count": 68,
   "id": "c01bf3a1-f438-46e8-ae8d-05f56e451f3d",
   "metadata": {},
   "outputs": [
    {
     "name": "stdout",
     "output_type": "stream",
     "text": [
      "+--------+-------+------+-------------------+\n",
      "|movie_id|user_id|   tag|               time|\n",
      "+--------+-------+------+-------------------+\n",
      "|     832| 224183|acting|2017-06-05 07:20:27|\n",
      "+--------+-------+------+-------------------+\n",
      "only showing top 1 row\n",
      "\n"
     ]
    },
    {
     "data": {
      "text/plain": [
       "'\\nEjemplo de salida esperada:\\n+-------+--------+------+-------------------+\\n|user_id|movie_id|   tag|               time|\\n+-------+--------+------+-------------------+\\n| 224183|     832|acting|2017-06-05 07:20:27|\\n+-------+--------+------+-------------------+\\nonly showing top 1 row\\n'"
      ]
     },
     "execution_count": 68,
     "metadata": {},
     "output_type": "execute_result"
    }
   ],
   "source": [
    "# NO MODIFICAR EL CONTENIDO DE ESTA CELDA\n",
    "casted_tags_df.show(1)\n",
    "\"\"\"\n",
    "Ejemplo de salida esperada:\n",
    "+-------+--------+------+-------------------+\n",
    "|user_id|movie_id|   tag|               time|\n",
    "+-------+--------+------+-------------------+\n",
    "| 224183|     832|acting|2017-06-05 07:20:27|\n",
    "+-------+--------+------+-------------------+\n",
    "only showing top 1 row\n",
    "\"\"\""
   ]
  },
  {
   "cell_type": "code",
   "execution_count": 69,
   "id": "c9ac0cb1-044e-407e-b437-1e6cf4b56550",
   "metadata": {},
   "outputs": [],
   "source": [
    "# NO MODIFICAR EL CONTENIDO DE ESTA CELDA\n",
    "assert \"user_id\" in casted_tags_df.columns\n",
    "assert \"movie_id\" in casted_tags_df.columns\n",
    "assert \"tag\" in casted_tags_df.columns\n",
    "assert \"time\" in casted_tags_df.columns\n",
    "assert len(casted_tags_df.columns) == 4\n",
    "\n",
    "casted_tags_df = casted_tags_df.select(\"user_id\" ,\"movie_id\", \"tag\", \"time\")\n",
    "\n",
    "assert schema_to_ddl(casted_tags_df) == 'user_id STRING,movie_id STRING,tag STRING,time TIMESTAMP'"
   ]
  },
  {
   "cell_type": "markdown",
   "id": "9e2de495-d55c-44a6-99ea-d997ab41e500",
   "metadata": {},
   "source": [
    "#### Actividad 4:\n",
    "##### TO DO ->    Para el dataframe resultante de la actividad 1 (casted_movies_df) aplica la siguiente regla de negocio:\n",
    "- ##### Agrega una columna llamada \"year\" de tipo IntegerType() de acuerdo a las siguientes condiciones:\n",
    "    - ##### Si la columna \"title\" termina con la expresión regular \"\\\\([0-9]{4}\\\\\\)\\\\$\" extraer 4 carácteres desde la posición -5\n",
    "    - ##### Si la columna \"title\" termina con la expresión regular '\\\\([0-9]{4}\\\\\\)\"\\\\$' extraer 4 carácteres desde la posición -6\n",
    "    - ##### En cualquier otro caso mantener un valor null\n",
    "    - Utiliza la función substring -> https://spark.apache.org/docs/latest/api/python/reference/pyspark.sql/api/pyspark.sql.functions.substring.html#pyspark.sql.functions.substring\n",
    "    - Adicional necesitarás revisar la siguiente fucion de la clase Column: rlike -> https://spark.apache.org/docs/latest/api/python//reference/pyspark.sql/api/pyspark.sql.Column.rlike.html\n",
    "        - ##### Para validar qué hace cada expresión regular puedes utilizar https://regex101.com/ o https://regexr.com/ y hacer pruebas con los textos:\n",
    "            - ##### Toy Story (1995)\n",
    "            - ##### \"\"\"Great Performances\"\" Cats (1998)\"\n",
    "- ##### Filtra todos los registros que no contengan el valor \"(no genres listed)\" dentro de la columna \"genres\"\n",
    "    - Utiliza la función  array_contains -> https://spark.apache.org/docs/latest/api/python/reference/pyspark.sql/api/pyspark.sql.functions.array_contains.html#pyspark.sql.functions.array_contains\n",
    "##### NO UTILIZAR withColumn NI withColumnRenamed"
   ]
  },
  {
   "cell_type": "raw",
   "id": "0c2554cb-5a0a-4bb5-9eed-1c94a094f457",
   "metadata": {},
   "source": [
    "Expresion regular 1: \"\\([0-9]{4}\\)$\"\n",
    "Expresion regular 2: '\\([0-9]{4}\\)\"$'"
   ]
  },
  {
   "cell_type": "code",
   "execution_count": 80,
   "id": "cfcf5135-b42d-4a64-81fa-11dfa315dc1a",
   "metadata": {},
   "outputs": [
    {
     "name": "stdout",
     "output_type": "stream",
     "text": [
      "+--------+--------------------+--------------------+----+\n",
      "|movie_id|               title|              genres|year|\n",
      "+--------+--------------------+--------------------+----+\n",
      "|       1|    Toy Story (1995)|[Adventure, Anima...|1995|\n",
      "|       2|      Jumanji (1995)|[Adventure, Child...|1995|\n",
      "|       3|Grumpier Old Men ...|   [Comedy, Romance]|1995|\n",
      "|       4|Waiting to Exhale...|[Comedy, Drama, R...|1995|\n",
      "|       5|Father of the Bri...|            [Comedy]|1995|\n",
      "|       6|         Heat (1995)|[Action, Crime, T...|1995|\n",
      "|       7|      Sabrina (1995)|   [Comedy, Romance]|1995|\n",
      "|       8| Tom and Huck (1995)|[Adventure, Child...|1995|\n",
      "|       9| Sudden Death (1995)|            [Action]|1995|\n",
      "|      10|    GoldenEye (1995)|[Action, Adventur...|1995|\n",
      "|      11|American Presiden...|[Comedy, Drama, R...|1995|\n",
      "|      12|Dracula: Dead and...|    [Comedy, Horror]|1995|\n",
      "|      13|        Balto (1995)|[Adventure, Anima...|1995|\n",
      "|      14|        Nixon (1995)|             [Drama]|1995|\n",
      "|      15|Cutthroat Island ...|[Action, Adventur...|1995|\n",
      "|      16|       Casino (1995)|      [Crime, Drama]|1995|\n",
      "|      17|Sense and Sensibi...|    [Drama, Romance]|1995|\n",
      "|      18|   Four Rooms (1995)|            [Comedy]|1995|\n",
      "|      19|Ace Ventura: When...|            [Comedy]|1995|\n",
      "|      20|  Money Train (1995)|[Action, Comedy, ...|1995|\n",
      "+--------+--------------------+--------------------+----+\n",
      "only showing top 20 rows\n",
      "\n"
     ]
    }
   ],
   "source": [
    "## TU CODIGO VA EN ESTA CELDA:\n",
    "transformed_movies_df = casted_movies_df # aplicar transformaciones a casted_movies_df\n",
    "\n",
    "# Importaciones extra\n",
    "from pyspark.sql.functions import col, substring, when, array_contains\n",
    "from pyspark.sql.types import IntegerType\n",
    "\n",
    "# Agregar columna \"year\" de acuerdo a condiciones de expresiones regulares\n",
    "transformed_movies_df = transformed_movies_df.select(\n",
    "    \"*\",\n",
    "    when(\n",
    "        col(\"title\").rlike(r\"\\([0-9]{4}\\)$\"),\n",
    "        substring(col(\"title\"), -5, 4).cast(IntegerType())\n",
    "    ).when(\n",
    "        col(\"title\").rlike(r'\\([0-9]{4}\"$'),\n",
    "        substring(col(\"title\"), -6, 4).cast(IntegerType())\n",
    "    ).otherwise(None).alias(\"year\")\n",
    ")\n",
    "\n",
    "# Filtro de los registros\n",
    "transformed_movies_df = transformed_movies_df.filter(~array_contains(col(\"genres\"), \"(no genres listed)\"))\n",
    "\n",
    "# Imprimir resultados\n",
    "transformed_movies_df.show()\n"
   ]
  },
  {
   "cell_type": "code",
   "execution_count": 81,
   "id": "af3fd4da-f616-4647-a9fb-c159326521a2",
   "metadata": {},
   "outputs": [
    {
     "name": "stdout",
     "output_type": "stream",
     "text": [
      "+--------+----------------+--------------------+----+\n",
      "|movie_id|           title|              genres|year|\n",
      "+--------+----------------+--------------------+----+\n",
      "|       1|Toy Story (1995)|[Adventure, Anima...|1995|\n",
      "+--------+----------------+--------------------+----+\n",
      "only showing top 1 row\n",
      "\n"
     ]
    },
    {
     "data": {
      "text/plain": [
       "'\\nEjemplo de salida esperada:\\n+--------+----------------+--------------------+----+\\n|movie_id|           title|              genres|year|\\n+--------+----------------+--------------------+----+\\n|       1|Toy Story (1995)|[Adventure, Anima...|1995|\\n+--------+----------------+--------------------+----+\\nonly showing top 1 row\\n'"
      ]
     },
     "execution_count": 81,
     "metadata": {},
     "output_type": "execute_result"
    }
   ],
   "source": [
    "# NO MODIFICAR EL CONTENIDO DE ESTA CELDA\n",
    "transformed_movies_df.show(1)\n",
    "\"\"\"\n",
    "Ejemplo de salida esperada:\n",
    "+--------+----------------+--------------------+----+\n",
    "|movie_id|           title|              genres|year|\n",
    "+--------+----------------+--------------------+----+\n",
    "|       1|Toy Story (1995)|[Adventure, Anima...|1995|\n",
    "+--------+----------------+--------------------+----+\n",
    "only showing top 1 row\n",
    "\"\"\""
   ]
  },
  {
   "cell_type": "code",
   "execution_count": 82,
   "id": "b5224eda-aac4-400c-bfc0-6451dcda7f36",
   "metadata": {},
   "outputs": [],
   "source": [
    "# NO MODIFICAR EL CONTENIDO DE ESTA CELDA\n",
    "assert \"movie_id\" in transformed_movies_df.columns\n",
    "assert \"title\" in transformed_movies_df.columns\n",
    "assert \"genres\" in transformed_movies_df.columns\n",
    "assert \"year\" in transformed_movies_df.columns\n",
    "assert len(transformed_movies_df.columns) == 4\n",
    "\n",
    "transformed_movies_df = transformed_movies_df.select(\"movie_id\" ,\"title\", \"genres\", \"year\")\n",
    "\n",
    "assert schema_to_ddl(transformed_movies_df) == 'movie_id STRING,title STRING,genres ARRAY<STRING>,year INT'\n",
    "\n",
    "assert transformed_movies_df.count() == 79477"
   ]
  },
  {
   "cell_type": "code",
   "execution_count": 83,
   "id": "66df8125-9055-445b-8afe-aa8d123b8412",
   "metadata": {},
   "outputs": [],
   "source": [
    "# NO MODIFICAR EL CONTENIDO DE ESTA CELDA\n",
    "dfs = [(transformed_movies_df, \"06/movies\"),\n",
    "       (casted_tags_df, \"06/tags\"),\n",
    "       (casted_ratings_df, \"06/ratings\")]\n",
    "\n",
    "write_tmp_df(dfs)"
   ]
  },
  {
   "cell_type": "code",
   "execution_count": null,
   "id": "c9f077e7-179f-4550-a58e-fa1ff5794eef",
   "metadata": {},
   "outputs": [],
   "source": []
  }
 ],
 "metadata": {
  "kernelspec": {
   "display_name": "Python 3 (ipykernel)",
   "language": "python",
   "name": "python3"
  },
  "language_info": {
   "codemirror_mode": {
    "name": "ipython",
    "version": 3
   },
   "file_extension": ".py",
   "mimetype": "text/x-python",
   "name": "python",
   "nbconvert_exporter": "python",
   "pygments_lexer": "ipython3",
   "version": "3.9.13"
  }
 },
 "nbformat": 4,
 "nbformat_minor": 5
}
