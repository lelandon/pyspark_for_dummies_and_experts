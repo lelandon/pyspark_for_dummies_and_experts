{
 "cells": [
  {
   "cell_type": "markdown",
   "id": "a5e1cc97-a123-41da-9257-8a8790ddfc43",
   "metadata": {},
   "source": [
    "#### Como primera misión el cliente ha solicitado corroborar que dominamos el manejo de transformaciones con RDD's. Presta mucha atención a las instrucciones listadas y resuelve las actividades."
   ]
  },
  {
   "cell_type": "code",
   "execution_count": 1,
   "id": "db178849-112f-4099-8552-f0fc634edbf1",
   "metadata": {},
   "outputs": [],
   "source": [
    "# NO MODIFICAR CONTENIDO DE ESTA CELDA\n",
    "from pyspark.sql import SparkSession\n",
    "from pyspark import RDD"
   ]
  },
  {
   "cell_type": "markdown",
   "id": "ecaaf790-7728-4745-9e49-8d8365460ddf",
   "metadata": {},
   "source": [
    "#### Actividad 1:\n",
    "##### TO DO: Crear la sesion de spark y el contexto de spark. Almacenarlos en las variables \"spark\" y \"sc\" respectivamente. \n",
    "##### Colocando \"local[*]\" en la opción master y \"ejercicio_3\" en el appName"
   ]
  },
  {
   "cell_type": "code",
   "execution_count": 2,
   "id": "27877c4d-c5c1-4a5f-ba76-4673e37aba49",
   "metadata": {},
   "outputs": [],
   "source": [
    "## TU CODIGO VA EN ESTA CELDA:\n",
    "\n",
    "spark = SparkSession.builder.appName(\"ejercicio_3\").master(\"local[*]\").getOrCreate() # levantar sesión de spark\n",
    "sc = spark.sparkContext # crear contexto de spark\n"
   ]
  },
  {
   "cell_type": "code",
   "execution_count": 3,
   "id": "77bed029-3e52-49e1-8daa-b7657637309d",
   "metadata": {},
   "outputs": [],
   "source": [
    "# NO MODIFICAR CONTENIDO DE ESTA CELDA\n",
    "\n",
    "from pyspark.context import SparkContext\n",
    "\n",
    "assert type(spark) == SparkSession\n",
    "assert spark.sparkContext.getConf().get(\"spark.master\") == \"local[*]\"\n",
    "assert spark.sparkContext.getConf().get(\"spark.app.name\") == \"ejercicio_3\"\n",
    "assert type(sc) == SparkContext"
   ]
  },
  {
   "cell_type": "markdown",
   "id": "8388701b-4c36-48cd-854e-67b3af2f30e3",
   "metadata": {},
   "source": [
    "#### Actividad 2:\n",
    "##### TO DO: Leer el archivo de texto: \"../resources/data/txt/green_eggs_and_ham.txt\" utilizando el sparkContext para cargar un RDD[str]"
   ]
  },
  {
   "cell_type": "code",
   "execution_count": 4,
   "id": "bfa6b8f5-8e76-484b-8291-6a64bf7a5448",
   "metadata": {},
   "outputs": [],
   "source": [
    "## TU CODIGO VA EN ESTA CELDA:\n",
    "sc = spark.sparkContext\n",
    "data: RDD[str] = sc.textFile(name = \"../resources/data/txt/green_eggs_and_ham.txt\") #... reemplazar por lectura de archivo con sc"
   ]
  },
  {
   "cell_type": "code",
   "execution_count": 5,
   "id": "879865f3-adc2-4d53-ac3f-e2c72c19fbfa",
   "metadata": {},
   "outputs": [],
   "source": [
    "# NO MODIFICAR CONTENIDO DE ESTA CELDA\n",
    "assert type(data) == RDD\n",
    "assert data.count() == 103"
   ]
  },
  {
   "cell_type": "markdown",
   "id": "3013873e-3449-4967-8fae-242ef6247212",
   "metadata": {},
   "source": [
    "#### Actividad 3:\n",
    "##### TO DO: Crear un RDD que contenga el conteo de cada palabra contenida en el documento leido anteriormente.\n",
    "##### El resultado tendrá que ser un RDD de tuplas con la siguiente estructura (word, count), donde la primer posición deberá ser la palabra y la segunda posicion el total de veces que aparece esa palabra en el RDD leido \n",
    "##### NOTA: Limpiar el contenido de data ya que existen espacios dobles y convertir todo el contenido en MAYUSCULAS\n",
    "Ejemplo:\n",
    "\n",
    "Archivo de entrada:\n",
    "\n",
    "HOLA  MUNDO HOLA  \n",
    "feliZ Mundo  \n",
    "FELIZ MUNDO ADIOS\n",
    "\n",
    "Salida:\n",
    "\n",
    "(MUNDO, 3)  \n",
    "(HOLA, 2)  \n",
    "(FELIZ, 2)  \n",
    "(ADIOS, 1)\n",
    "\n"
   ]
  },
  {
   "cell_type": "code",
   "execution_count": 8,
   "id": "29788924-a28f-44d2-a875-f6de87fae89c",
   "metadata": {},
   "outputs": [
    {
     "data": {
      "text/plain": [
       "[('I', 83),\n",
       " ('AM', 16),\n",
       " ('SAM', 19),\n",
       " ('THAT', 3),\n",
       " ('DO', 37),\n",
       " ('NOT', 82),\n",
       " ('LIKE', 44),\n",
       " ('WOULD', 27),\n",
       " ('YOU', 34),\n",
       " ('GREEN', 10),\n",
       " ('EGGS', 11),\n",
       " ('AND', 25),\n",
       " ('HAM', 11),\n",
       " ('THEM', 58),\n",
       " ('HERE', 11),\n",
       " ('OR', 8),\n",
       " ('THERE', 9),\n",
       " ('ANYWHERE', 8),\n",
       " ('IN', 40),\n",
       " ('A', 56),\n",
       " ('HOUSE', 8),\n",
       " ('THEN', 1),\n",
       " ('WITH', 18),\n",
       " ('MOUSE', 7),\n",
       " ('EAT', 23),\n",
       " ('BOX', 7),\n",
       " ('FOX', 7),\n",
       " ('COULD', 14),\n",
       " ('CAR', 7),\n",
       " ('THEY', 2),\n",
       " ('ARE', 2),\n",
       " ('MAY', 4),\n",
       " ('WILL', 18),\n",
       " ('SEE', 4),\n",
       " ('TREE', 6),\n",
       " ('LET', 4),\n",
       " ('ME', 4),\n",
       " ('BE', 4),\n",
       " ('TRAIN', 8),\n",
       " ('ON', 6),\n",
       " ('GREEM', 1),\n",
       " ('SAY', 5),\n",
       " ('THE', 11),\n",
       " ('DARK', 7),\n",
       " ('RAIN', 4),\n",
       " ('GOAT', 4),\n",
       " ('BOAT', 3),\n",
       " ('SO', 5),\n",
       " ('TRY', 4),\n",
       " ('IF', 1),\n",
       " ('GOOD', 2),\n",
       " ('THANK', 2)]"
      ]
     },
     "execution_count": 8,
     "metadata": {},
     "output_type": "execute_result"
    }
   ],
   "source": [
    "## TU CODIGO VA EN ESTA CELDA:\n",
    "\n",
    "#Transformación para limpiar el contenido y convertir las letras a mayusculas\n",
    "result: RDD = data.flatMap(lambda line: line.split()).map(lambda word: word.strip().upper())\n",
    "\n",
    "#Transformación para realizar el conteo de palabras\n",
    "result = result.countByValue()\n",
    "\n",
    "#RDD de tuplas para utilizar Word y Count\n",
    "result = sc.parallelize([(word, count) for word, count in result.items()])\n",
    "\n",
    "#Impresión de resultados (muestra todas las palbras del archivo)\n",
    "result.collect()\n"
   ]
  },
  {
   "cell_type": "code",
   "execution_count": 9,
   "id": "016a94dc-7df0-41ab-a667-8890c85b9fed",
   "metadata": {},
   "outputs": [],
   "source": [
    "# NO MODIFICAR CONTENIDO DE ESTA CELDA\n",
    "assert result.count() == 52\n",
    "\n",
    "ordered_result = result.sortBy(lambda item: item[1], ascending=False, numPartitions=1).take(5)\n",
    "expected = [('I', 83), ('NOT', 82), ('THEM', 58), ('A', 56), ('LIKE', 44)]\n",
    "assert ordered_result == expected\n",
    "\n",
    "sam_values = result.filter(lambda item: item[0] == 'SAM').take(1)\n",
    "assert sam_values[0][1] == 19\n",
    "result.foreach(print)"
   ]
  },
  {
   "cell_type": "code",
   "execution_count": null,
   "id": "cec0fae4-cb5a-4946-8d75-a0448e325484",
   "metadata": {},
   "outputs": [],
   "source": []
  }
 ],
 "metadata": {
  "kernelspec": {
   "display_name": "Python 3 (ipykernel)",
   "language": "python",
   "name": "python3"
  },
  "language_info": {
   "codemirror_mode": {
    "name": "ipython",
    "version": 3
   },
   "file_extension": ".py",
   "mimetype": "text/x-python",
   "name": "python",
   "nbconvert_exporter": "python",
   "pygments_lexer": "ipython3",
   "version": "3.9.13"
  }
 },
 "nbformat": 4,
 "nbformat_minor": 5
}
